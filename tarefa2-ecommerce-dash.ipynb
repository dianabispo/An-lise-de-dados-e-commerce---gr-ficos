{
 "cells": [
  {
   "cell_type": "code",
   "execution_count": 1,
   "id": "934eb77b",
   "metadata": {},
   "outputs": [
    {
     "name": "stdout",
     "output_type": "stream",
     "text": [
      "Collecting jupyter-dash\n",
      "  Downloading jupyter_dash-0.4.2-py3-none-any.whl (23 kB)\n",
      "Collecting dash\n",
      "  Downloading dash-2.18.2-py3-none-any.whl (7.8 MB)\n",
      "Collecting ansi2html\n",
      "  Downloading ansi2html-1.9.2-py3-none-any.whl (17 kB)\n",
      "Requirement already satisfied: ipython in d:\\anaconda\\lib\\site-packages (from jupyter-dash) (7.22.0)\n",
      "Requirement already satisfied: ipykernel in d:\\anaconda\\lib\\site-packages (from jupyter-dash) (5.3.4)\n",
      "Requirement already satisfied: flask in d:\\anaconda\\lib\\site-packages (from jupyter-dash) (1.1.2)\n",
      "Collecting retrying\n",
      "  Downloading retrying-1.3.4-py3-none-any.whl (11 kB)\n",
      "Requirement already satisfied: nest-asyncio in d:\\anaconda\\lib\\site-packages (from jupyter-dash) (1.5.1)\n",
      "Requirement already satisfied: requests in d:\\anaconda\\lib\\site-packages (from jupyter-dash) (2.25.1)\n",
      "Collecting dash-html-components==2.0.0\n",
      "  Downloading dash_html_components-2.0.0-py3-none-any.whl (4.1 kB)\n",
      "Collecting dash-core-components==2.0.0\n",
      "  Downloading dash_core_components-2.0.0-py3-none-any.whl (3.8 kB)\n",
      "Requirement already satisfied: Werkzeug<3.1 in d:\\anaconda\\lib\\site-packages (from dash->jupyter-dash) (1.0.1)\n",
      "Requirement already satisfied: setuptools in d:\\anaconda\\lib\\site-packages (from dash->jupyter-dash) (56.0.0)\n",
      "Collecting dash-table==5.0.0\n",
      "  Downloading dash_table-5.0.0-py3-none-any.whl (3.9 kB)\n",
      "Requirement already satisfied: typing-extensions>=4.1.1 in d:\\anaconda\\lib\\site-packages (from dash->jupyter-dash) (4.11.0)\n",
      "Collecting plotly>=5.0.0\n",
      "  Downloading plotly-5.24.1-py3-none-any.whl (19.1 MB)\n",
      "Requirement already satisfied: importlib-metadata in d:\\anaconda\\lib\\site-packages (from dash->jupyter-dash) (3.10.0)\n",
      "Requirement already satisfied: Jinja2>=2.10.1 in d:\\anaconda\\lib\\site-packages (from flask->jupyter-dash) (3.0.0)\n",
      "Requirement already satisfied: click>=5.1 in d:\\anaconda\\lib\\site-packages (from flask->jupyter-dash) (8.0.1)\n",
      "Requirement already satisfied: itsdangerous>=0.24 in d:\\anaconda\\lib\\site-packages (from flask->jupyter-dash) (2.0.1)\n",
      "Requirement already satisfied: colorama in d:\\anaconda\\lib\\site-packages (from click>=5.1->flask->jupyter-dash) (0.4.4)\n",
      "Requirement already satisfied: MarkupSafe>=2.0.0rc2 in d:\\anaconda\\lib\\site-packages (from Jinja2>=2.10.1->flask->jupyter-dash) (2.0.1)\n",
      "Collecting tenacity>=6.2.0\n",
      "  Downloading tenacity-9.0.0-py3-none-any.whl (28 kB)\n",
      "Requirement already satisfied: packaging in d:\\anaconda\\lib\\site-packages (from plotly>=5.0.0->dash->jupyter-dash) (23.2)\n",
      "Requirement already satisfied: zipp>=0.5 in d:\\anaconda\\lib\\site-packages (from importlib-metadata->dash->jupyter-dash) (3.4.1)\n",
      "Requirement already satisfied: traitlets>=4.1.0 in d:\\anaconda\\lib\\site-packages (from ipykernel->jupyter-dash) (5.0.5)\n",
      "Requirement already satisfied: tornado>=4.2 in d:\\anaconda\\lib\\site-packages (from ipykernel->jupyter-dash) (6.1)\n",
      "Requirement already satisfied: jupyter-client in d:\\anaconda\\lib\\site-packages (from ipykernel->jupyter-dash) (6.1.12)\n",
      "Requirement already satisfied: backcall in d:\\anaconda\\lib\\site-packages (from ipython->jupyter-dash) (0.2.0)\n",
      "Requirement already satisfied: pygments in d:\\anaconda\\lib\\site-packages (from ipython->jupyter-dash) (2.17.2)\n",
      "Requirement already satisfied: decorator in d:\\anaconda\\lib\\site-packages (from ipython->jupyter-dash) (4.4.2)\n",
      "Requirement already satisfied: jedi>=0.16 in d:\\anaconda\\lib\\site-packages (from ipython->jupyter-dash) (0.17.2)\n",
      "Requirement already satisfied: prompt-toolkit!=3.0.0,!=3.0.1,<3.1.0,>=2.0.0 in d:\\anaconda\\lib\\site-packages (from ipython->jupyter-dash) (3.0.17)\n",
      "Requirement already satisfied: pickleshare in d:\\anaconda\\lib\\site-packages (from ipython->jupyter-dash) (0.7.5)\n",
      "Requirement already satisfied: parso<0.8.0,>=0.7.0 in d:\\anaconda\\lib\\site-packages (from jedi>=0.16->ipython->jupyter-dash) (0.7.0)\n",
      "Requirement already satisfied: wcwidth in d:\\anaconda\\lib\\site-packages (from prompt-toolkit!=3.0.0,!=3.0.1,<3.1.0,>=2.0.0->ipython->jupyter-dash) (0.2.5)\n",
      "Requirement already satisfied: ipython-genutils in d:\\anaconda\\lib\\site-packages (from traitlets>=4.1.0->ipykernel->jupyter-dash) (0.2.0)\n",
      "Requirement already satisfied: python-dateutil>=2.1 in d:\\anaconda\\lib\\site-packages (from jupyter-client->ipykernel->jupyter-dash) (2.8.1)\n",
      "Requirement already satisfied: jupyter-core>=4.6.0 in d:\\anaconda\\lib\\site-packages (from jupyter-client->ipykernel->jupyter-dash) (4.7.1)\n",
      "Requirement already satisfied: pyzmq>=13 in d:\\anaconda\\lib\\site-packages (from jupyter-client->ipykernel->jupyter-dash) (20.0.0)\n",
      "Requirement already satisfied: pywin32>=1.0 in d:\\anaconda\\lib\\site-packages (from jupyter-core>=4.6.0->jupyter-client->ipykernel->jupyter-dash) (227)\n",
      "Requirement already satisfied: six>=1.5 in d:\\anaconda\\lib\\site-packages (from python-dateutil>=2.1->jupyter-client->ipykernel->jupyter-dash) (1.15.0)\n",
      "Requirement already satisfied: urllib3<1.27,>=1.21.1 in d:\\anaconda\\lib\\site-packages (from requests->jupyter-dash) (1.26.4)\n",
      "Requirement already satisfied: certifi>=2017.4.17 in d:\\anaconda\\lib\\site-packages (from requests->jupyter-dash) (2021.5.30)\n",
      "Requirement already satisfied: idna<3,>=2.5 in d:\\anaconda\\lib\\site-packages (from requests->jupyter-dash) (2.10)\n",
      "Requirement already satisfied: chardet<5,>=3.0.2 in d:\\anaconda\\lib\\site-packages (from requests->jupyter-dash) (4.0.0)\n",
      "Installing collected packages: tenacity, retrying, plotly, dash-table, dash-html-components, dash-core-components, dash, ansi2html, jupyter-dash\n",
      "Successfully installed ansi2html-1.9.2 dash-2.18.2 dash-core-components-2.0.0 dash-html-components-2.0.0 dash-table-5.0.0 jupyter-dash-0.4.2 plotly-5.24.1 retrying-1.3.4 tenacity-9.0.0\n",
      "Note: you may need to restart the kernel to use updated packages.\n"
     ]
    }
   ],
   "source": [
    "pip install jupyter-dash"
   ]
  },
  {
   "cell_type": "code",
   "execution_count": 3,
   "id": "a9bdde0f",
   "metadata": {},
   "outputs": [
    {
     "data": {
      "text/html": [
       "\n",
       "        <iframe\n",
       "            width=\"100%\"\n",
       "            height=\"650\"\n",
       "            src=\"http://127.0.0.1:8050/\"\n",
       "            frameborder=\"0\"\n",
       "            allowfullscreen\n",
       "        ></iframe>\n",
       "        "
      ],
      "text/plain": [
       "<IPython.lib.display.IFrame at 0x18de5501e50>"
      ]
     },
     "metadata": {},
     "output_type": "display_data"
    }
   ],
   "source": [
    "# Importação das bibliotecas necessárias\n",
    "from dash import Dash, dcc, html\n",
    "import plotly.express as px\n",
    "import pandas as pd\n",
    "\n",
    "# Leitura do arquivo CSV\n",
    "df = pd.read_csv('ecommerce_estatistica.csv')\n",
    "\n",
    "# Criação da aplicação Dash\n",
    "app = Dash(__name__)\n",
    "\n",
    "# Gráfico de Histograma para 'Nota'\n",
    "fig_hist = px.histogram(df, x='Nota', title='Distribuição das Notas', labels={'Nota': 'Nota'})\n",
    "fig_hist.update_layout(xaxis_title='Nota', yaxis_title='Frequência')\n",
    "\n",
    "# Gráfico de Dispersão entre 'Nota' e 'N_Avaliações'\n",
    "fig_scatter = px.scatter(df, x='Nota', y='N_Avaliações', title='Relação entre Nota e Número de Avaliações', labels={'Nota': 'Nota', 'N_Avaliações': 'Número de Avaliações'})\n",
    "fig_scatter.update_layout(xaxis_title='Nota', yaxis_title='Número de Avaliações')\n",
    "\n",
    "# Gráfico de Mapa de Calor de Correlação\n",
    "correlacao = df.corr()\n",
    "fig_heatmap = px.imshow(correlacao, title='Mapa de Calor - Correlação entre Variáveis', labels=dict(x='Variáveis', y='Variáveis'))\n",
    "fig_heatmap.update_layout(xaxis_title='Variáveis', yaxis_title='Variáveis')\n",
    "\n",
    "# Gráfico de Barra para a Frequência dos 'Material'\n",
    "fig_bar = px.bar(df, x='Material', title='Frequência dos Materiais', labels={'Material': 'Material'})\n",
    "fig_bar.update_layout(xaxis_title='Material', yaxis_title='Frequência')\n",
    "\n",
    "# Gráfico de Pizza para a Distribuição de 'Gênero'\n",
    "fig_pie = px.pie(df, names='Gênero', title='Distribuição de Gênero', labels={'Gênero': 'Gênero'})\n",
    "\n",
    "# Gráfico de Densidade para 'Desconto'\n",
    "fig_density = px.density_contour(df, x='Desconto', title='Distribuição de Desconto', labels={'Desconto': 'Desconto'})\n",
    "\n",
    "# Gráfico de Regressão entre 'Nota' e 'Preço_MinMax'\n",
    "fig_regression = px.scatter(df, x='Nota', y='Preço_MinMax', title='Relação entre Nota e Preço', trendline='ols', labels={'Nota': 'Nota', 'Preço_MinMax': 'Preço'})\n",
    "fig_regression.update_layout(xaxis_title='Nota', yaxis_title='Preço')\n",
    "\n",
    "# Layout da aplicação Dash\n",
    "app.layout = html.Div(children=[\n",
    "    html.H1(\"Visualização de Dados de E-commerce\"),\n",
    "    \n",
    "    dcc.Graph(figure=fig_hist),\n",
    "    dcc.Graph(figure=fig_scatter),\n",
    "    dcc.Graph(figure=fig_heatmap),\n",
    "    dcc.Graph(figure=fig_bar),\n",
    "    dcc.Graph(figure=fig_pie),\n",
    "    dcc.Graph(figure=fig_density),\n",
    "    dcc.Graph(figure=fig_regression)\n",
    "])\n",
    "\n",
    "# Rodando a aplicação\n",
    "if __name__ == '__main__':\n",
    "    app.run_server(debug=True)\n"
   ]
  },
  {
   "cell_type": "code",
   "execution_count": null,
   "id": "ffb40b85",
   "metadata": {},
   "outputs": [],
   "source": []
  }
 ],
 "metadata": {
  "kernelspec": {
   "display_name": "Python 3",
   "language": "python",
   "name": "python3"
  },
  "language_info": {
   "codemirror_mode": {
    "name": "ipython",
    "version": 3
   },
   "file_extension": ".py",
   "mimetype": "text/x-python",
   "name": "python",
   "nbconvert_exporter": "python",
   "pygments_lexer": "ipython3",
   "version": "3.8.10"
  }
 },
 "nbformat": 4,
 "nbformat_minor": 5
}
